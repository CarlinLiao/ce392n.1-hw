{
 "cells": [
  {
   "cell_type": "code",
   "execution_count": 1,
   "metadata": {},
   "outputs": [],
   "source": [
    "import numpy as np\n",
    "import matplotlib.pyplot as plt"
   ]
  },
  {
   "cell_type": "code",
   "execution_count": 2,
   "metadata": {},
   "outputs": [
    {
     "data": {
      "image/png": "[encoded data removed]",
      "text/plain": [
       "<Figure size 432x288 with 1 Axes>"
      ]
     },
     "metadata": {
      "needs_background": "light"
     },
     "output_type": "display_data"
    },
    {
     "name": "stdout",
     "output_type": "stream",
     "text": [
      "    mean:  1655.012547854207\n",
      "variance:  4.2543096650727605\n"
     ]
    }
   ],
   "source": [
    "# given constants\n",
    "ek = 58\n",
    "sdk = 2.41\n",
    "n = 10_000\n",
    "\n",
    "# function q(k)\n",
    "q = lambda k: 28.68*k*np.log(157/k) # log fcn is natural log\n",
    "\n",
    "# monte carlo sim of n k-values distributed N(ek, sdk)\n",
    "simk = np.random.normal(ek, sdk, n)\n",
    "\n",
    "# translate simulated k-values to q-values\n",
    "simq = q(simk)\n",
    "\n",
    "# histogram of simulated q-values\n",
    "plt.hist(simq)\n",
    "plt.xlabel('q')\n",
    "plt.ylabel('count')\n",
    "plt.savefig('fig.png',dpi='figure')\n",
    "plt.show()\n",
    "\n",
    "# output\n",
    "print('    mean: ', np.mean(simq))\n",
    "print('variance: ', np.var(simq))"
   ]
  }
 ],
 "metadata": {
  "kernelspec": {
   "display_name": "Python 3",
   "language": "python",
   "name": "python3"
  },
  "language_info": {
   "codemirror_mode": {
    "name": "ipython",
    "version": 3
   },
   "file_extension": ".py",
   "mimetype": "text/x-python",
   "name": "python",
   "nbconvert_exporter": "python",
   "pygments_lexer": "ipython3",
   "version": "3.6.8"
  }
 },
 "nbformat": 4,
 "nbformat_minor": 2
}
