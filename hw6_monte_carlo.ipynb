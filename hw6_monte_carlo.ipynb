{
 "cells": [
  {
   "cell_type": "code",
   "execution_count": 1,
   "metadata": {},
   "outputs": [],
   "source": [
    "import numpy as np\n",
    "import matplotlib.pyplot as plt"
   ]
  },
  {
   "cell_type": "code",
   "execution_count": 2,
   "metadata": {},
   "outputs": [
    {
     "name": "stdout",
     "output_type": "stream",
     "text": [
      "Strategy A\n",
      "    mean:  66.64900956108973\n",
      "variance:  19.808462337373314\n",
      "\n",
      "Strategy B\n",
      "    mean:  61.259597127030695\n",
      "variance:  13.853717228835777\n",
      "\n",
      "Strategy C\n",
      "    mean:  57.47206820302749\n",
      "variance:  4.550530028435504\n"
     ]
    }
   ],
   "source": [
    "# given constants\n",
    "ei = 0.04\n",
    "sdi = 0.008\n",
    "n = 10_000\n",
    "\n",
    "# function npv(i)\n",
    "npv = lambda i, ic_2019, r_2019, r_2029, s_2034: ic_2019*(1+i)**10 + r_2019 + r_2029/(1+i)**10 - s_2034/(1+i)**15\n",
    "\n",
    "# monte carlo sim of n i-values distributed N(ei, sdi)\n",
    "simi = np.random.normal(ei, sdi, n)\n",
    "\n",
    "# translate simulated k-values to npv-values for all three strategies\n",
    "sim_a = npv(simi, 40, 5, 5, 2)\n",
    "sim_b = npv(simi, 35, 5, 8, 2)\n",
    "sim_c = npv(simi, 26, 7, 20, 3)\n",
    "\n",
    "# output\n",
    "print('Strategy A')\n",
    "print('    mean: ', np.mean(sim_a))\n",
    "print('variance: ', np.var(sim_a))\n",
    "print('')\n",
    "print('Strategy B')\n",
    "print('    mean: ', np.mean(sim_b))\n",
    "print('variance: ', np.var(sim_b))\n",
    "print('')\n",
    "print('Strategy C')\n",
    "print('    mean: ', np.mean(sim_c))\n",
    "print('variance: ', np.var(sim_c))"
   ]
  }
 ],
 "metadata": {
  "kernelspec": {
   "display_name": "Python 3",
   "language": "python",
   "name": "python3"
  },
  "language_info": {
   "codemirror_mode": {
    "name": "ipython",
    "version": 3
   },
   "file_extension": ".py",
   "mimetype": "text/x-python",
   "name": "python",
   "nbconvert_exporter": "python",
   "pygments_lexer": "ipython3",
   "version": "3.6.8"
  }
 },
 "nbformat": 4,
 "nbformat_minor": 2
}
